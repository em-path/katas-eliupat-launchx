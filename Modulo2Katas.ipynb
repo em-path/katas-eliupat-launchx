{
 "cells": [
  {
   "cell_type": "markdown",
   "metadata": {},
   "source": [
    "Se ejecutó el siguiente comando dentro de una carpeta llamada \"Kata 2\"\n y automaticamente se creo una caerpeta env",
    "Esta es la carpeta creada \n"
   ]
  },
  {
   "cell_type": "markdown",
   "metadata": {},
   "source": []
  },
  {
   "cell_type": "code",
   "execution_count": null,
   "metadata": {},
   "outputs": [],
   "source": [
    "C:\\Users\\Tulyp\\Desktop\\kata2>env\\Scripts\\activate\n",
    "\n",
    "(env) C:\\Users\\Tulyp\\Desktop\\kata2>pip freeze\n",
    "\n",
    "(env) C:\\Users\\Tulyp\\Desktop\\kata2>pip install python-dateutil\n",
    "Collecting python-dateutil\n",
    "  Using cached python_dateutil-2.8.2-py2.py3-none-any.whl (247 kB)\n",
    "Collecting six>=1.5\n",
    "  Using cached six-1.16.0-py2.py3-none-any.whl (11 kB)\n",
    "Installing collected packages: six, python-dateutil\n",
    "Successfully installed python-dateutil-2.8.2 six-1.16.0\n",
    "WARNING: You are using pip version 21.2.4; however, version 22.0.3 is available.\n",
    "You should consider upgrading via the 'C:\\Users\\Tulyp\\Desktop\\kata2\\env\\Scripts\\python.exe -m pip install --upgrad --upgrade pip' command.\n",
    "\n",
    "(env) C:\\Users\\Tulyp\\Desktop\\kata2>pip freeze\n",
    "python-dateutil==2.8.2\n",
    "six==1.16.0\n",
    "\n",
    "(env) C:\\Users\\Tulyp\\Desktop\\kata2>deactivate\n",
    "C:\\Users\\Tulyp\\Desktop\\kata2>deactivate"
   ]
  }
 ],
 "metadata": {
  "language_info": {
   "name": "python"
  },
  "orig_nbformat": 4
 },
 "nbformat": 4,
 "nbformat_minor": 2
}
